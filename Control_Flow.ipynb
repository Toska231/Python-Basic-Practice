{
  "nbformat": 4,
  "nbformat_minor": 0,
  "metadata": {
    "colab": {
      "provenance": [],
      "authorship_tag": "ABX9TyP1CRs3PQQRmh5VFXzlnwhg",
      "include_colab_link": true
    },
    "kernelspec": {
      "name": "python3",
      "display_name": "Python 3"
    },
    "language_info": {
      "name": "python"
    }
  },
  "cells": [
    {
      "cell_type": "markdown",
      "metadata": {
        "id": "view-in-github",
        "colab_type": "text"
      },
      "source": [
        "<a href=\"https://colab.research.google.com/github/Toska231/Python-Basic-Practice/blob/main/Control_Flow.ipynb\" target=\"_parent\"><img src=\"https://colab.research.google.com/assets/colab-badge.svg\" alt=\"Open In Colab\"/></a>"
      ]
    },
    {
      "cell_type": "markdown",
      "source": [
        "# Control flow\n",
        "-Orders of informations, Instructions or Functions\n",
        "-Executed or Evaluated\n",
        "-Help with decision making\n",
        "\n",
        "1.Conditional statement\n",
        "-If\n",
        "-Else\n",
        "-If-Else\n",
        "-If-Elif-Else\n",
        "\n",
        "2.Iteractive Statement\n",
        "-For\n",
        "-While Loop\n",
        "\n",
        "3.Break\n",
        "4.Continue\n",
        "5.Pass\n",
        "6.Exception and Handling\n",
        "\n",
        "# Using Condtional Statement\n",
        "\n",
        "\n",
        "\n"
      ],
      "metadata": {
        "id": "3_5-FP5WFxOZ"
      }
    },
    {
      "cell_type": "code",
      "source": [
        " # WAP to take two numbers from the user and print the largest of them\n",
        "\n",
        "num1 = int(input(\"Enter the first number: \"))\n",
        "num2 = int(input(\"Enter the second number: \"))\n",
        "\n",
        "if num1 > num2:\n",
        "  print(f\"{num1} is greater than {num2}\")\n",
        "elif num2 > num1:\n",
        "    print(f\"{num2} is greater than {num1}\")\n",
        "else:\n",
        "      print(f\"{num1} and {num2} are equal!\")"
      ],
      "metadata": {
        "colab": {
          "base_uri": "https://localhost:8080/"
        },
        "id": "UZEBZdvIJjUA",
        "outputId": "063f2d62-81fe-4f3e-d184-143ec88fbdbd"
      },
      "execution_count": null,
      "outputs": [
        {
          "output_type": "stream",
          "name": "stdout",
          "text": [
            "Enter the first number: 23\n",
            "Enter the second number: 23\n",
            "23 and 23 are equal!\n"
          ]
        }
      ]
    },
    {
      "cell_type": "code",
      "source": [
        "# WAP to assign grades according to the students final mark =>90:A, =>80:B, =>70:C, =>60:D else F\n",
        "\n",
        "grade = int(input(\"Enter your marks: \"))\n",
        "\n",
        "if grade >= 90:\n",
        "    print(\"Grade A\")\n",
        "elif grade >= 80:\n",
        "    print(\"Grade B\")\n",
        "elif grade >= 70:\n",
        "    print(\"Grade C\")\n",
        "elif grade >= 60:\n",
        "    print(\"Grade D\")\n",
        "else:\n",
        "    print(\"Grade F\")"
      ],
      "metadata": {
        "colab": {
          "base_uri": "https://localhost:8080/"
        },
        "id": "Sf_TIuNGSWys",
        "outputId": "5442c2a6-c608-46c4-f647-93adffb1c19a"
      },
      "execution_count": null,
      "outputs": [
        {
          "output_type": "stream",
          "name": "stdout",
          "text": [
            "Enter your marks: 78\n",
            "Grade C\n"
          ]
        }
      ]
    },
    {
      "cell_type": "code",
      "source": [
        "# WAP to check if the given year is a leap year.\n",
        "\n",
        "year = int(input(\"Enter a year: \"))\n",
        "\n",
        "if (year % 4 == 0 and year % 100 != 0) or (year % 400 == 0):\n",
        "  print(f\"{year} is a leap year\")"
      ],
      "metadata": {
        "colab": {
          "base_uri": "https://localhost:8080/"
        },
        "id": "9DIFOXrHSl_l",
        "outputId": "76a41848-501e-4a71-e5e1-bd19cc81288c"
      },
      "execution_count": null,
      "outputs": [
        {
          "output_type": "stream",
          "name": "stdout",
          "text": [
            "Enter a year: 2024\n",
            "2024 is a leap year\n"
          ]
        }
      ]
    },
    {
      "cell_type": "code",
      "source": [
        "# WAP to print the palindrome of a given number\n",
        "\n",
        "num = int(input(\"Enter a number: \"))\n",
        "temp = num\n",
        "rev = 0\n",
        "\n",
        "while temp > 0:\n",
        "  digit = temp % 10\n",
        "  rev = rev * 10 + digit\n",
        "  temp //= 10\n",
        "\n",
        "if num == rev:\n",
        "  print(f\"{num} is a palindrome\")"
      ],
      "metadata": {
        "colab": {
          "base_uri": "https://localhost:8080/"
        },
        "id": "2t4SqysnTCN3",
        "outputId": "af888ded-3a1d-47ba-e7aa-c3514ab8591d"
      },
      "execution_count": null,
      "outputs": [
        {
          "output_type": "stream",
          "name": "stdout",
          "text": [
            "Enter a number: 414\n",
            "414 is a palindrome\n"
          ]
        }
      ]
    },
    {
      "cell_type": "code",
      "source": [
        "# WAP to check the person is eligible to vote or not\n",
        "try:\n",
        "    age = int(input(\"Enter your age: \"))\n",
        "\n",
        "    # Check if age is valid (non-negative)\n",
        "    if age < 0:\n",
        "        print(\"Invalid age! Age cannot be negative.\")\n",
        "    else:\n",
        "        # Check voting eligibility (assuming the minimum voting age is 18)\n",
        "        if age >= 18:\n",
        "            print(f\"You are {age} years old.\")\n",
        "            print(\"You are eligible to vote!\")\n",
        "        else:\n",
        "            years_left = 18 - age\n",
        "            print(f\"You are {age} years old.\")\n",
        "            print(\"You are not eligible to vote yet.\")\n",
        "            print(f\"You can vote after {years_left} years.\")\n",
        "\n",
        "except ValueError:\n",
        "    print(\"Please enter a valid age in numbers!\")"
      ],
      "metadata": {
        "colab": {
          "base_uri": "https://localhost:8080/"
        },
        "id": "vmw4AGUrTTxZ",
        "outputId": "ea7cec46-d9f6-46f4-ac93-e17fecbf0319"
      },
      "execution_count": null,
      "outputs": [
        {
          "output_type": "stream",
          "name": "stdout",
          "text": [
            "Enter your age: 16\n",
            "You are 16 years old.\n",
            "You are not eligible to vote yet.\n",
            "You can vote after 2 years.\n"
          ]
        }
      ]
    }
  ]
}